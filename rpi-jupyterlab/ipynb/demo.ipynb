{
 "cells": [
  {
   "cell_type": "code",
   "execution_count": 1,
   "metadata": {},
   "outputs": [
    {
     "name": "stdout",
     "output_type": "stream",
     "text": [
      "hello world\n"
     ]
    }
   ],
   "source": [
    "print('hello world')"
   ]
  },
  {
   "cell_type": "code",
   "execution_count": 2,
   "metadata": {},
   "outputs": [
    {
     "name": "stdout",
     "output_type": "stream",
     "text": [
      "Python 3.6.6\n"
     ]
    }
   ],
   "source": [
    "%%bash\n",
    "python --version"
   ]
  },
  {
   "cell_type": "code",
   "execution_count": 3,
   "metadata": {},
   "outputs": [
    {
     "name": "stdout",
     "output_type": "stream",
     "text": [
      "Package            Version  \n",
      "------------------ ---------\n",
      "asn1crypto         0.24.0   \n",
      "backcall           0.1.0    \n",
      "bleach             2.1.4    \n",
      "certifi            2018.8.24\n",
      "cffi               1.11.5   \n",
      "chardet            3.0.4    \n",
      "conda              4.5.11   \n",
      "cryptography       2.3.1    \n",
      "decorator          4.3.0    \n",
      "entrypoints        0.2.3    \n",
      "html5lib           1.0.1    \n",
      "idna               2.7      \n",
      "ipykernel          4.9.0    \n",
      "ipython            6.5.0    \n",
      "ipython-genutils   0.2.0    \n",
      "ipywidgets         7.4.1    \n",
      "jedi               0.12.1   \n",
      "Jinja2             2.10     \n",
      "jsonschema         2.6.0    \n",
      "jupyter-client     5.2.3    \n",
      "jupyter-console    5.2.0    \n",
      "jupyter-core       4.4.0    \n",
      "jupyterlab         0.35.4   \n",
      "jupyterlab-server  0.2.0    \n",
      "MarkupSafe         1.0      \n",
      "mistune            0.8.3    \n",
      "nbconvert          5.3.1    \n",
      "nbformat           4.4.0    \n",
      "notebook           5.6.0    \n",
      "pandocfilters      1.4.2    \n",
      "parso              0.3.1    \n",
      "pexpect            4.6.0    \n",
      "pickleshare        0.7.4    \n",
      "pip                19.1.1   \n",
      "prometheus-client  0.3.1    \n",
      "prompt-toolkit     1.0.15   \n",
      "ptyprocess         0.6.0    \n",
      "pycosat            0.6.3    \n",
      "Pygments           2.2.0    \n",
      "pyOpenSSL          18.0.0   \n",
      "PySocks            1.6.8    \n",
      "python-dateutil    2.6.1    \n",
      "pyzmq              17.1.2   \n",
      "requests           2.19.1   \n",
      "ruamel-yaml        0.15.63  \n",
      "Send2Trash         1.5.0    \n",
      "setuptools         40.2.0   \n",
      "simplegeneric      0.8.1    \n",
      "six                1.11.0   \n",
      "terminado          0.8.1    \n",
      "testpath           0.3.1    \n",
      "tornado            5.1      \n",
      "traitlets          4.3.2    \n",
      "urllib3            1.23     \n",
      "wcwidth            0.1.7    \n",
      "webencodings       0.5.1    \n",
      "wheel              0.31.1   \n",
      "widgetsnbextension 3.4.1    \n"
     ]
    }
   ],
   "source": [
    "%%bash\n",
    "pip list"
   ]
  },
  {
   "cell_type": "code",
   "execution_count": 4,
   "metadata": {},
   "outputs": [
    {
     "name": "stdout",
     "output_type": "stream",
     "text": [
      "# packages in environment at /usr/local/miniconda:\n",
      "#\n",
      "# Name                    Version                   Build  Channel\n",
      "asn1crypto                0.24.0                   py36_3    rpi\n",
      "backcall                  0.1.0                      py_0    rpi\n",
      "bleach                    2.1.4                      py_1    rpi\n",
      "ca-certificates           2018.8.24                     0    rpi\n",
      "certifi                   2018.8.24                py36_1    rpi\n",
      "cffi                      1.11.5           py36h822fc13_1    rpi\n",
      "chardet                   3.0.4                    py36_3    rpi\n",
      "conda                     4.5.11                   py36_0    rpi\n",
      "conda-env                 2.6.0                         1    rpi\n",
      "cryptography              2.3.1            py36h696e4aa_0    rpi\n",
      "decorator                 4.3.0                      py_0    rpi\n",
      "entrypoints               0.2.3                    py36_2    rpi\n",
      "html5lib                  1.0.1            py36h4e0ed57_0    rpi\n",
      "idna                      2.7                      py36_2    rpi\n",
      "ipykernel                 4.9.0                    py36_0    rpi\n",
      "ipython                   6.5.0                    py36_0    rpi\n",
      "ipython_genutils          0.2.0                      py_1    rpi\n",
      "ipywidgets                7.4.1                      py_0    rpi\n",
      "jedi                      0.12.1                   py36_0    rpi\n",
      "jinja2                    2.10                       py_1    rpi\n",
      "jsonschema                2.6.0                    py36_2    rpi\n",
      "jupyter                   1.0.0            py36h224aed1_0    rpi\n",
      "jupyter_client            5.2.3                      py_1    rpi\n",
      "jupyter_console           5.2.0                    py36_1    rpi\n",
      "jupyter_core              4.4.0              pyhc2c3be9_0    rpi\n",
      "jupyterlab                0.35.4                   py36_0    rpi\n",
      "jupyterlab_server         0.2.0                      py_0    rpi\n",
      "libffi                    3.2.1                h4f752ac_4    rpi\n",
      "libsodium                 1.0.16                        0    rpi\n",
      "markupsafe                1.0              py36hdff2a78_1    rpi\n",
      "mistune                   0.8.3            py36hdff2a78_2    rpi\n",
      "nbconvert                 5.3.1                      py_1    rpi\n",
      "nbformat                  4.4.0                      py_1    rpi\n",
      "ncurses                   6.1                  h4f752ac_1    rpi\n",
      "notebook                  5.6.0                    py36_1    rpi\n",
      "openssl                   1.0.2r               hdff2a78_0    rpi\n",
      "pandocfilters             1.4.2                      py_1    rpi\n",
      "parso                     0.3.1                      py_0    rpi\n",
      "pexpect                   4.6.0                    py36_0    rpi\n",
      "pickleshare               0.7.4                    py36_0    rpi\n",
      "pip                       19.1.1                    <pip>\n",
      "pip                       18.0                     py36_1    rpi\n",
      "prometheus_client         0.3.1                      py_1    rpi\n",
      "prompt_toolkit            1.0.15                     py_0    rpi\n",
      "ptyprocess                0.6.0                    py36_0    rpi\n",
      "pycosat                   0.6.3            py36hdff2a78_1    rpi\n",
      "pycparser                 2.18                       py_1    rpi\n",
      "pycrypto                  2.6.1                    py34_0    <unknown>\n",
      "pygments                  2.2.0                      py_1    rpi\n",
      "pyopenssl                 18.0.0                   py36_0    rpi\n",
      "pysocks                   1.6.8                    py36_2    rpi\n",
      "python                    3.6.6                hd0568c0_1    rpi\n",
      "python-dateutil           2.6.1                      py_0    rpi\n",
      "pyyaml                    3.11                     py34_1    <unknown>\n",
      "pyzmq                     17.1.2           py36h7dfa1d7_0    rpi\n",
      "readline                  7.0                  hcb560eb_1    rpi\n",
      "requests                  2.19.1                   py36_1    rpi\n",
      "ruamel_yaml               0.15.63          py36hdff2a78_0    rpi\n",
      "send2trash                1.5.0                      py_0    rpi\n",
      "setuptools                40.2.0                   py36_0    rpi\n",
      "simplegeneric             0.8.1                      py_1    rpi\n",
      "six                       1.11.0                   py36_1    rpi\n",
      "sqlite                    3.24.0               hfcb1bcf_1    rpi\n",
      "terminado                 0.8.1                    py36_1    rpi\n",
      "testpath                  0.3.1                    py36_1    rpi\n",
      "tk                        8.6.8                h849d6a0_0    rpi\n",
      "tornado                   5.1              py36hdff2a78_1    rpi\n",
      "traitlets                 4.3.2                    py36_0    rpi\n",
      "urllib3                   1.23                     py36_1    rpi\n",
      "wcwidth                   0.1.7                      py_1    rpi\n",
      "webencodings              0.5.1                      py_1    rpi\n",
      "wheel                     0.31.1                   py36_1    rpi\n",
      "widgetsnbextension        3.4.1                    py36_0    rpi\n",
      "xz                        5.2.4                hdff2a78_1    rpi\n",
      "yaml                      0.1.7                hdff2a78_1    rpi\n",
      "zeromq                    4.2.5                h4f752ac_5    rpi\n",
      "zlib                      1.2.11            hdff2a78_1003    rpi\n"
     ]
    }
   ],
   "source": [
    "%%bash\n",
    "conda list"
   ]
  },
  {
   "cell_type": "code",
   "execution_count": null,
   "metadata": {},
   "outputs": [],
   "source": []
  }
 ],
 "metadata": {
  "kernelspec": {
   "display_name": "py36",
   "language": "python",
   "name": "py36"
  },
  "language_info": {
   "codemirror_mode": {
    "name": "ipython",
    "version": 3
   },
   "file_extension": ".py",
   "mimetype": "text/x-python",
   "name": "python",
   "nbconvert_exporter": "python",
   "pygments_lexer": "ipython3",
   "version": "3.6.6"
  }
 },
 "nbformat": 4,
 "nbformat_minor": 2
}
