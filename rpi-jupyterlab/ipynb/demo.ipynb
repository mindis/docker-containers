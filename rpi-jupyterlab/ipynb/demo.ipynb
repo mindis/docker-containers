{
 "cells": [
  {
   "cell_type": "code",
   "execution_count": 1,
   "metadata": {},
   "outputs": [
    {
     "name": "stdout",
     "output_type": "stream",
     "text": [
      "hello world\n"
     ]
    }
   ],
   "source": [
    "print('hello world')"
   ]
  },
  {
   "cell_type": "code",
   "execution_count": 2,
   "metadata": {},
   "outputs": [
    {
     "name": "stdout",
     "output_type": "stream",
     "text": [
      "/root/miniconda/envs/py36/bin/python\n"
     ]
    }
   ],
   "source": [
    "%%bash\n",
    "which python"
   ]
  },
  {
   "cell_type": "code",
   "execution_count": 3,
   "metadata": {},
   "outputs": [
    {
     "name": "stdout",
     "output_type": "stream",
     "text": [
      "Python 3.6.6\n"
     ]
    }
   ],
   "source": [
    "%%bash\n",
    "python --version"
   ]
  },
  {
   "cell_type": "code",
   "execution_count": 4,
   "metadata": {},
   "outputs": [
    {
     "name": "stdout",
     "output_type": "stream",
     "text": [
      "pip 18.0 from /root/miniconda/envs/py36/lib/python3.6/site-packages/pip (python 3.6)\n"
     ]
    }
   ],
   "source": [
    "%%bash\n",
    "/root/miniconda/envs/py36/bin/pip --version"
   ]
  },
  {
   "cell_type": "code",
   "execution_count": 5,
   "metadata": {},
   "outputs": [
    {
     "name": "stdout",
     "output_type": "stream",
     "text": [
      "Package            Version  \n",
      "------------------ ---------\n",
      "backcall           0.1.0    \n",
      "bleach             2.1.4    \n",
      "certifi            2018.8.24\n",
      "decorator          4.3.0    \n",
      "entrypoints        0.2.3    \n",
      "html5lib           1.0.1    \n",
      "ipykernel          4.9.0    \n",
      "ipython            6.5.0    \n",
      "ipython-genutils   0.2.0    \n",
      "ipywidgets         7.4.1    \n",
      "jedi               0.12.1   \n",
      "Jinja2             2.10     \n",
      "jsonschema         2.6.0    \n",
      "jupyter-client     5.2.3    \n",
      "jupyter-console    5.2.0    \n",
      "jupyter-core       4.4.0    \n",
      "jupyterlab         0.35.4   \n",
      "jupyterlab-server  0.2.0    \n",
      "MarkupSafe         1.0      \n",
      "mistune            0.8.3    \n",
      "nbconvert          5.3.1    \n",
      "nbformat           4.4.0    \n",
      "notebook           5.6.0    \n",
      "pandocfilters      1.4.2    \n",
      "parso              0.3.1    \n",
      "pexpect            4.6.0    \n",
      "pickleshare        0.7.4    \n",
      "pip                18.0     \n",
      "prometheus-client  0.3.1    \n",
      "prompt-toolkit     1.0.15   \n",
      "ptyprocess         0.6.0    \n",
      "Pygments           2.2.0    \n",
      "python-dateutil    2.6.1    \n",
      "pyzmq              17.1.2   \n",
      "Send2Trash         1.5.0    \n",
      "setuptools         40.2.0   \n",
      "simplegeneric      0.8.1    \n",
      "six                1.11.0   \n",
      "terminado          0.8.1    \n",
      "testpath           0.3.1    \n",
      "tornado            5.1      \n",
      "traitlets          4.3.2    \n",
      "wcwidth            0.1.7    \n",
      "webencodings       0.5.1    \n",
      "wheel              0.31.1   \n",
      "widgetsnbextension 3.4.1    \n"
     ]
    }
   ],
   "source": [
    "%%bash\n",
    "/root/miniconda/envs/py36/bin/pip list"
   ]
  },
  {
   "cell_type": "code",
   "execution_count": 6,
   "metadata": {},
   "outputs": [
    {
     "name": "stdout",
     "output_type": "stream",
     "text": [
      "total 2328\n",
      "lrwxrwxrwx 1 root root       8 Jul 23 19:45 2to3 -> 2to3-3.6\n",
      "-rwxrwxr-x 1 root root     116 Jul 23 19:44 2to3-3.6\n",
      "-rwxrwxr-x 1 root root    5189 Jul 23 19:44 c_rehash\n",
      "lrwxrwxrwx 1 root root       3 Jul 23 19:44 captoinfo -> tic\n",
      "-rwxrwxr-x 2 root root    9820 Sep  4  2018 clear\n",
      "-rwxrwxr-x 3 root root    8452 Sep  8  2018 curve_keygen\n",
      "-rwxrwxr-x 1 root root     254 Jul 23 19:44 easy_install\n",
      "lrwxrwxrwx 1 root root       7 Jul 23 19:45 idle3 -> idle3.6\n",
      "-rwxrwxr-x 1 root root     114 Jul 23 19:44 idle3.6\n",
      "-rwxrwxr-x 2 root root   55112 Sep  4  2018 infocmp\n",
      "lrwxrwxrwx 1 root root       3 Jul 23 19:44 infotocap -> tic\n",
      "-rwxrwxr-x 1 root root     400 Jul 23 19:44 iptest\n",
      "-rwxrwxr-x 1 root root     402 Jul 23 19:44 iptest3\n",
      "-rwxrwxr-x 1 root root     248 Jul 23 19:44 ipython\n",
      "-rwxrwxr-x 1 root root     248 Jul 23 19:44 ipython3\n",
      "-rwxrwxr-x 1 root root     408 Jul 23 19:44 jlpm\n",
      "-rwxrwxr-x 1 root root     237 Jul 23 19:44 jsonschema\n",
      "-rwxr-xr-x 1 root root     245 Jul 23 19:45 jupyter\n",
      "-rwxrwxr-x 1 root root     257 Jul 23 19:44 jupyter-bundlerextension\n",
      "-rwxrwxr-x 1 root root     242 Jul 23 19:44 jupyter-console\n",
      "-rwxrwxr-x 1 root root     279 Jul 23 19:44 jupyter-kernel\n",
      "-rwxr-xr-x 1 root root     287 Jul 23 19:46 jupyter-kernelspec\n",
      "-rwxrwxr-x 1 root root     240 Jul 23 19:44 jupyter-lab\n",
      "-rwxrwxr-x 1 root root     247 Jul 23 19:44 jupyter-labextension\n",
      "-rwxrwxr-x 1 root root     243 Jul 23 19:44 jupyter-labhub\n",
      "-rwxr-xr-x 1 root root     245 Jul 23 19:45 jupyter-migrate\n",
      "-rwxr-xr-x 1 root root     247 Jul 23 19:46 jupyter-nbconvert\n",
      "-rwxrwxr-x 1 root root     244 Jul 23 19:44 jupyter-nbextension\n",
      "-rwxrwxr-x 1 root root     243 Jul 23 19:44 jupyter-notebook\n",
      "-rwxr-xr-x 1 root root     246 Jul 23 19:46 jupyter-run\n",
      "-rwxrwxr-x 1 root root     248 Jul 23 19:44 jupyter-serverextension\n",
      "-rwxr-xr-x 1 root root     250 Jul 23 19:45 jupyter-troubleshoot\n",
      "-rwxr-xr-x 1 root root     278 Jul 23 19:46 jupyter-trust\n",
      "lrwxrwxrwx 1 root root       2 Jul 23 19:45 lzcat -> xz\n",
      "lrwxrwxrwx 1 root root       6 Jul 23 19:45 lzcmp -> xzdiff\n",
      "lrwxrwxrwx 1 root root       6 Jul 23 19:45 lzdiff -> xzdiff\n",
      "lrwxrwxrwx 1 root root       6 Jul 23 19:45 lzegrep -> xzgrep\n",
      "lrwxrwxrwx 1 root root       6 Jul 23 19:45 lzfgrep -> xzgrep\n",
      "lrwxrwxrwx 1 root root       6 Jul 23 19:45 lzgrep -> xzgrep\n",
      "lrwxrwxrwx 1 root root       6 Jul 23 19:45 lzless -> xzless\n",
      "lrwxrwxrwx 1 root root       2 Jul 23 19:45 lzma -> xz\n",
      "-rwxrwxr-x 2 root root   13808 Sep  4  2018 lzmadec\n",
      "-rwxrwxr-x 1 root root   13660 Jul 23 19:44 lzmainfo\n",
      "lrwxrwxrwx 1 root root       6 Jul 23 19:45 lzmore -> xzmore\n",
      "-rwxrwxr-x 1 root root    6327 Jul 23 19:44 ncurses6-config\n",
      "-rwxrwxr-x 1 root root    6331 Jul 23 19:44 ncursesw6-config\n",
      "-rwxrwxr-x 2 root root  580820 Apr 13 13:42 openssl\n",
      "-rwxrwxr-x 1 root root     236 Jul 23 19:44 pip\n",
      "lrwxrwxrwx 1 root root       8 Jul 23 19:45 pydoc -> pydoc3.6\n",
      "lrwxrwxrwx 1 root root       8 Jul 23 19:45 pydoc3 -> pydoc3.6\n",
      "-rwxrwxr-x 1 root root      99 Jul 23 19:44 pydoc3.6\n",
      "-rwxr-xr-x 1 root root     241 Jul 23 19:45 pygmentize\n",
      "lrwxrwxrwx 1 root root       9 Jul 23 19:45 python -> python3.6\n",
      "lrwxrwxrwx 1 root root       9 Jul 23 19:45 python3 -> python3.6\n",
      "lrwxrwxrwx 1 root root      17 Jul 23 19:45 python3-config -> python3.6m-config\n",
      "-rwxrwxr-x 1 root root   28236 Sep  6  2018 python3.6\n",
      "lrwxrwxrwx 1 root root      17 Jul 23 19:45 python3.6-config -> python3.6m-config\n",
      "-rwxrwxr-x 2 root root   28236 Sep  6  2018 python3.6m\n",
      "-rwxrwxr-x 1 root root    3211 Jul 23 19:44 python3.6m-config\n",
      "lrwxrwxrwx 1 root root      10 Jul 23 19:45 pyvenv -> pyvenv-3.6\n",
      "-rwxrwxr-x 1 root root     456 Jul 23 19:44 pyvenv-3.6\n",
      "lrwxrwxrwx 1 root root       4 Jul 23 19:44 reset -> tset\n",
      "-rwxrwxr-x 2 root root 1140872 Sep  4  2018 sqlite3\n",
      "-rwxrwxr-x 2 root root   29841 Sep  5  2018 sqlite3_analyzer\n",
      "-rwxrwxr-x 2 root root   13952 Sep  4  2018 tabs\n",
      "lrwxrwxrwx 1 root root       8 Jul 23 19:45 tclsh -> tclsh8.6\n",
      "-rwxrwxr-x 2 root root    8612 Sep  5  2018 tclsh8.6\n",
      "-rwxrwxr-x 2 root root   71656 Sep  4  2018 tic\n",
      "-rwxrwxr-x 2 root root   14004 Sep  4  2018 toe\n",
      "-rwxrwxr-x 2 root root   18144 Sep  4  2018 tput\n",
      "-rwxrwxr-x 2 root root   18140 Sep  4  2018 tset\n",
      "lrwxrwxrwx 1 root root       2 Jul 23 19:45 unlzma -> xz\n",
      "lrwxrwxrwx 1 root root       2 Jul 23 19:45 unxz -> xz\n",
      "-rwxrwxr-x 1 root root     233 Jul 23 19:44 wheel\n",
      "lrwxrwxrwx 1 root root       7 Jul 23 19:45 wish -> wish8.6\n",
      "-rwxrwxr-x 2 root root    8752 Sep  5  2018 wish8.6\n",
      "-rwxrwxr-x 1 root root   86380 Jul 23 19:44 xz\n",
      "lrwxrwxrwx 1 root root       2 Jul 23 19:45 xzcat -> xz\n",
      "lrwxrwxrwx 1 root root       6 Jul 23 19:45 xzcmp -> xzdiff\n",
      "-rwxrwxr-x 2 root root   13808 Sep  4  2018 xzdec\n",
      "-rwxrwxr-x 2 root root    6634 Sep  4  2018 xzdiff\n",
      "lrwxrwxrwx 1 root root       6 Jul 23 19:45 xzegrep -> xzgrep\n",
      "lrwxrwxrwx 1 root root       6 Jul 23 19:45 xzfgrep -> xzgrep\n",
      "-rwxrwxr-x 2 root root    5630 Sep  4  2018 xzgrep\n",
      "-rwxrwxr-x 2 root root    1804 Sep  4  2018 xzless\n",
      "-rwxrwxr-x 2 root root    2163 Sep  4  2018 xzmore\n"
     ]
    }
   ],
   "source": [
    "%%bash\n",
    "ls -l /root/miniconda/envs/py36/bin"
   ]
  },
  {
   "cell_type": "code",
   "execution_count": null,
   "metadata": {},
   "outputs": [],
   "source": []
  }
 ],
 "metadata": {
  "kernelspec": {
   "display_name": "py36",
   "language": "python",
   "name": "py36"
  },
  "language_info": {
   "codemirror_mode": {
    "name": "ipython",
    "version": 3
   },
   "file_extension": ".py",
   "mimetype": "text/x-python",
   "name": "python",
   "nbconvert_exporter": "python",
   "pygments_lexer": "ipython3",
   "version": "3.6.6"
  }
 },
 "nbformat": 4,
 "nbformat_minor": 2
}
