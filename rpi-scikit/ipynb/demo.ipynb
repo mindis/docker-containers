{
 "cells": [
  {
   "cell_type": "code",
   "execution_count": 1,
   "metadata": {},
   "outputs": [
    {
     "name": "stdout",
     "output_type": "stream",
     "text": [
      "hello world\n"
     ]
    }
   ],
   "source": [
    "print('hello world')"
   ]
  },
  {
   "cell_type": "code",
   "execution_count": 3,
   "metadata": {},
   "outputs": [
    {
     "name": "stdout",
     "output_type": "stream",
     "text": [
      "/root/miniconda/envs/py36/bin/python\n"
     ]
    }
   ],
   "source": [
    "%%bash\n",
    "which python"
   ]
  },
  {
   "cell_type": "code",
   "execution_count": 6,
   "metadata": {},
   "outputs": [
    {
     "name": "stdout",
     "output_type": "stream",
     "text": [
      "/root/miniconda/envs/py36/bin/pip\n"
     ]
    }
   ],
   "source": [
    "%%bash\n",
    "which pip"
   ]
  },
  {
   "cell_type": "code",
   "execution_count": 7,
   "metadata": {},
   "outputs": [
    {
     "name": "stdout",
     "output_type": "stream",
     "text": [
      "Python 3.6.6\n"
     ]
    }
   ],
   "source": [
    "%%bash\n",
    "python --version"
   ]
  },
  {
   "cell_type": "code",
   "execution_count": 13,
   "metadata": {},
   "outputs": [
    {
     "name": "stdout",
     "output_type": "stream",
     "text": [
      "pip 18.0 from /root/miniconda/envs/py36/lib/python3.6/site-packages/pip (python 3.6)\n"
     ]
    }
   ],
   "source": [
    "%%bash\n",
    "pip --version"
   ]
  },
  {
   "cell_type": "code",
   "execution_count": 10,
   "metadata": {},
   "outputs": [
    {
     "name": "stdout",
     "output_type": "stream",
     "text": [
      "Package                       Version  \n",
      "----------------------------- ---------\n",
      "backcall                      0.1.0    \n",
      "backports.functools-lru-cache 1.5      \n",
      "bleach                        2.1.4    \n",
      "certifi                       2018.8.24\n",
      "cycler                        0.10.0   \n",
      "Cython                        0.28.5   \n",
      "decorator                     4.3.0    \n",
      "entrypoints                   0.2.3    \n",
      "html5lib                      1.0.1    \n",
      "ipykernel                     4.9.0    \n",
      "ipython                       6.5.0    \n",
      "ipython-genutils              0.2.0    \n",
      "ipywidgets                    7.4.1    \n",
      "jedi                          0.12.1   \n",
      "Jinja2                        2.10     \n",
      "jsonschema                    2.6.0    \n",
      "jupyter-client                5.2.3    \n",
      "jupyter-console               5.2.0    \n",
      "jupyter-core                  4.4.0    \n",
      "jupyterlab                    0.35.4   \n",
      "jupyterlab-server             0.2.0    \n",
      "MarkupSafe                    1.0      \n",
      "matplotlib                    2.1.2    \n",
      "mistune                       0.8.3    \n",
      "nbconvert                     5.3.1    \n",
      "nbformat                      4.4.0    \n",
      "notebook                      5.6.0    \n",
      "numpy                         1.15.1   \n",
      "pandas                        0.23.4   \n",
      "pandocfilters                 1.4.2    \n",
      "parso                         0.3.1    \n",
      "patsy                         0.5.0    \n",
      "pexpect                       4.6.0    \n",
      "pickleshare                   0.7.4    \n",
      "pip                           18.0     \n",
      "prometheus-client             0.3.1    \n",
      "prompt-toolkit                1.0.15   \n",
      "ptyprocess                    0.6.0    \n",
      "Pygments                      2.2.0    \n",
      "pyparsing                     2.2.0    \n",
      "python-dateutil               2.6.1    \n",
      "pytz                          2018.5   \n",
      "pyzmq                         17.1.2   \n",
      "scikit-learn                  0.19.2   \n",
      "scipy                         1.0.0    \n",
      "seaborn                       0.9.0    \n",
      "Send2Trash                    1.5.0    \n",
      "setuptools                    40.2.0   \n",
      "simplegeneric                 0.8.1    \n",
      "six                           1.11.0   \n",
      "statsmodels                   0.9.0    \n",
      "terminado                     0.8.1    \n",
      "testpath                      0.3.1    \n",
      "tornado                       5.1      \n",
      "tqdm                          4.32.1   \n",
      "traitlets                     4.3.2    \n",
      "wcwidth                       0.1.7    \n",
      "webencodings                  0.5.1    \n",
      "wheel                         0.31.1   \n",
      "widgetsnbextension            3.4.1    \n"
     ]
    }
   ],
   "source": [
    "%%bash\n",
    "pip list"
   ]
  },
  {
   "cell_type": "code",
   "execution_count": 11,
   "metadata": {},
   "outputs": [],
   "source": [
    "%%bash\n",
    "which conda"
   ]
  },
  {
   "cell_type": "code",
   "execution_count": 7,
   "metadata": {},
   "outputs": [],
   "source": [
    "%%bash\n",
    "source /root/miniconda/bin/activate py36"
   ]
  },
  {
   "cell_type": "code",
   "execution_count": 8,
   "metadata": {},
   "outputs": [
    {
     "ename": "ModuleNotFoundError",
     "evalue": "No module named 'numpy'",
     "output_type": "error",
     "traceback": [
      "\u001b[0;31m---------------------------------------------------------------------------\u001b[0m",
      "\u001b[0;31mModuleNotFoundError\u001b[0m                       Traceback (most recent call last)",
      "\u001b[0;32m<ipython-input-8-0d9b1255e3ef>\u001b[0m in \u001b[0;36m<module>\u001b[0;34m()\u001b[0m\n\u001b[0;32m----> 1\u001b[0;31m \u001b[0;32mimport\u001b[0m \u001b[0mnumpy\u001b[0m \u001b[0;32mas\u001b[0m \u001b[0mnp\u001b[0m\u001b[0;34m\u001b[0m\u001b[0m\n\u001b[0m\u001b[1;32m      2\u001b[0m \u001b[0;34m\u001b[0m\u001b[0m\n\u001b[1;32m      3\u001b[0m \u001b[0;31m# x = np.random.normal(2, 1) + np.random.normal(0, 1)\u001b[0m\u001b[0;34m\u001b[0m\u001b[0;34m\u001b[0m\u001b[0m\n",
      "\u001b[0;31mModuleNotFoundError\u001b[0m: No module named 'numpy'"
     ]
    }
   ],
   "source": [
    "import numpy as np\n",
    "\n",
    "# x = np.random.normal(2, 1) + np.random.normal(0, 1)"
   ]
  },
  {
   "cell_type": "code",
   "execution_count": null,
   "metadata": {},
   "outputs": [],
   "source": []
  }
 ],
 "metadata": {
  "kernelspec": {
   "display_name": "py36",
   "language": "python",
   "name": "py36"
  },
  "language_info": {
   "codemirror_mode": {
    "name": "ipython",
    "version": 3
   },
   "file_extension": ".py",
   "mimetype": "text/x-python",
   "name": "python",
   "nbconvert_exporter": "python",
   "pygments_lexer": "ipython3",
   "version": "3.6.6"
  }
 },
 "nbformat": 4,
 "nbformat_minor": 4
}
